{
  "nbformat": 4,
  "nbformat_minor": 0,
  "metadata": {
    "colab": {
      "name": "assignment_applied_modeling_1.ipynb",
      "provenance": [],
      "collapsed_sections": []
    },
    "kernelspec": {
      "display_name": "Python 3",
      "language": "python",
      "name": "python3"
    },
    "language_info": {
      "codemirror_mode": {
        "name": "ipython",
        "version": 3
      },
      "file_extension": ".py",
      "mimetype": "text/x-python",
      "name": "python",
      "nbconvert_exporter": "python",
      "pygments_lexer": "ipython3",
      "version": "3.7.3"
    }
  },
  "cells": [
    {
      "cell_type": "markdown",
      "metadata": {
        "colab_type": "text",
        "id": "nCc3XZEyG3XV"
      },
      "source": [
        "Lambda School Data Science\n",
        "\n",
        "*Unit 2, Sprint 3, Module 1*\n",
        "\n",
        "---\n",
        "\n",
        "\n",
        "# Define ML problems\n",
        "\n",
        "You will use your portfolio project dataset for all assignments this sprint.\n",
        "\n",
        "## Assignment\n",
        "\n",
        "Complete these tasks for your project, and document your decisions.\n",
        "\n",
        "- [ ] Choose your target. Which column in your tabular dataset will you predict?\n",
        "- [ ] Is your problem regression or classification?\n",
        "- [ ] How is your target distributed?\n",
        "    - Classification: How many classes? Are the classes imbalanced?\n",
        "    - Regression: Is the target right-skewed? If so, you may want to log transform the target.\n",
        "- [ ] Choose which observations you will use to train, validate, and test your model.\n",
        "    - Are some observations outliers? Will you exclude them?\n",
        "    - Will you do a random split or a time-based split?\n",
        "- [ ] Choose your evaluation metric(s).\n",
        "    - Classification: Is your majority class frequency > 50% and < 70% ? If so, you can just use accuracy if you want. Outside that range, accuracy could be misleading. What evaluation metric will you choose, in addition to or instead of accuracy?\n",
        "- [ ] Begin to clean and explore your data.\n",
        "- [ ] Begin to choose which features, if any, to exclude. Would some features \"leak\" future information?"
      ]
    },
    {
      "cell_type": "code",
      "metadata": {
        "id": "jgYOMGMjvHfv",
        "colab_type": "code",
        "colab": {}
      },
      "source": [
        "# dataset location - http://insideairbnb.com/get-the-data.html\n",
        "\n",
        "import sys\n",
        "\n",
        "# If you're on Colab:\n",
        "if 'google.colab' in sys.modules:\n",
        "    DATA_PATH = 'https://raw.githubusercontent.com/LambdaSchool/DS-Unit-2-Kaggle-Challenge/master/data/'\n",
        "    !pip install category_encoders==2.*\n",
        "    !pip install pandas-profiling==2.*\n",
        "\n",
        "# If you're working locally:\n",
        "else:\n",
        "    DATA_PATH = '../data/'"
      ],
      "execution_count": 0,
      "outputs": []
    },
    {
      "cell_type": "code",
      "metadata": {
        "id": "22p2ZJ33wgel",
        "colab_type": "code",
        "colab": {
          "base_uri": "https://localhost:8080/",
          "height": 34
        },
        "outputId": "12e35fd9-8396-4215-fb04-0b1a923dc054"
      },
      "source": [
        "import pandas as pd\n",
        "from sklearn.model_selection import train_test_split\n",
        "\n",
        "listings = pd.read_csv('listings.csv')\n",
        "\n",
        "listings.shape"
      ],
      "execution_count": 2,
      "outputs": [
        {
          "output_type": "execute_result",
          "data": {
            "text/plain": [
              "(7435, 16)"
            ]
          },
          "metadata": {
            "tags": []
          },
          "execution_count": 2
        }
      ]
    },
    {
      "cell_type": "code",
      "metadata": {
        "id": "woLZMBOQwq_m",
        "colab_type": "code",
        "colab": {
          "base_uri": "https://localhost:8080/",
          "height": 445
        },
        "outputId": "3ef2fbcd-e099-4263-9267-cbc25674a39b"
      },
      "source": [
        "listings.head()"
      ],
      "execution_count": 3,
      "outputs": [
        {
          "output_type": "execute_result",
          "data": {
            "text/html": [
              "<div>\n",
              "<style scoped>\n",
              "    .dataframe tbody tr th:only-of-type {\n",
              "        vertical-align: middle;\n",
              "    }\n",
              "\n",
              "    .dataframe tbody tr th {\n",
              "        vertical-align: top;\n",
              "    }\n",
              "\n",
              "    .dataframe thead th {\n",
              "        text-align: right;\n",
              "    }\n",
              "</style>\n",
              "<table border=\"1\" class=\"dataframe\">\n",
              "  <thead>\n",
              "    <tr style=\"text-align: right;\">\n",
              "      <th></th>\n",
              "      <th>id</th>\n",
              "      <th>name</th>\n",
              "      <th>host_id</th>\n",
              "      <th>host_name</th>\n",
              "      <th>neighbourhood_group</th>\n",
              "      <th>neighbourhood</th>\n",
              "      <th>latitude</th>\n",
              "      <th>longitude</th>\n",
              "      <th>room_type</th>\n",
              "      <th>price</th>\n",
              "      <th>minimum_nights</th>\n",
              "      <th>number_of_reviews</th>\n",
              "      <th>last_review</th>\n",
              "      <th>reviews_per_month</th>\n",
              "      <th>calculated_host_listings_count</th>\n",
              "      <th>availability_365</th>\n",
              "    </tr>\n",
              "  </thead>\n",
              "  <tbody>\n",
              "    <tr>\n",
              "      <th>0</th>\n",
              "      <td>4952</td>\n",
              "      <td>Butterfly Inn - Graceful Living !</td>\n",
              "      <td>7054</td>\n",
              "      <td>Mei Lin</td>\n",
              "      <td>NaN</td>\n",
              "      <td>Palo Alto</td>\n",
              "      <td>37.43972</td>\n",
              "      <td>-122.15672</td>\n",
              "      <td>Private room</td>\n",
              "      <td>90</td>\n",
              "      <td>2</td>\n",
              "      <td>75</td>\n",
              "      <td>2019-01-12</td>\n",
              "      <td>0.61</td>\n",
              "      <td>5</td>\n",
              "      <td>52</td>\n",
              "    </tr>\n",
              "    <tr>\n",
              "      <th>1</th>\n",
              "      <td>11464</td>\n",
              "      <td>Deluxe Private Studio-custom int.</td>\n",
              "      <td>42458</td>\n",
              "      <td>Emey</td>\n",
              "      <td>NaN</td>\n",
              "      <td>Santa Clara</td>\n",
              "      <td>37.34342</td>\n",
              "      <td>-121.98829</td>\n",
              "      <td>Entire home/apt</td>\n",
              "      <td>85</td>\n",
              "      <td>14</td>\n",
              "      <td>5</td>\n",
              "      <td>2018-08-26</td>\n",
              "      <td>0.08</td>\n",
              "      <td>10</td>\n",
              "      <td>90</td>\n",
              "    </tr>\n",
              "    <tr>\n",
              "      <th>2</th>\n",
              "      <td>21373</td>\n",
              "      <td>Bonsai Garden Inn in Professorville</td>\n",
              "      <td>7054</td>\n",
              "      <td>Mei Lin</td>\n",
              "      <td>NaN</td>\n",
              "      <td>Palo Alto</td>\n",
              "      <td>37.44001</td>\n",
              "      <td>-122.15667</td>\n",
              "      <td>Private room</td>\n",
              "      <td>99</td>\n",
              "      <td>2</td>\n",
              "      <td>240</td>\n",
              "      <td>2019-09-15</td>\n",
              "      <td>2.12</td>\n",
              "      <td>5</td>\n",
              "      <td>276</td>\n",
              "    </tr>\n",
              "    <tr>\n",
              "      <th>3</th>\n",
              "      <td>23732</td>\n",
              "      <td>Heart of Silicon Valley bdrm &amp; bath</td>\n",
              "      <td>2077</td>\n",
              "      <td>Igor</td>\n",
              "      <td>NaN</td>\n",
              "      <td>Mountain View</td>\n",
              "      <td>37.39203</td>\n",
              "      <td>-122.06675</td>\n",
              "      <td>Private room</td>\n",
              "      <td>299</td>\n",
              "      <td>1</td>\n",
              "      <td>3</td>\n",
              "      <td>2011-07-07</td>\n",
              "      <td>0.03</td>\n",
              "      <td>1</td>\n",
              "      <td>365</td>\n",
              "    </tr>\n",
              "    <tr>\n",
              "      <th>4</th>\n",
              "      <td>37154</td>\n",
              "      <td>Private room in a 2 bedroom home in Campbell</td>\n",
              "      <td>160433</td>\n",
              "      <td>Daniel</td>\n",
              "      <td>NaN</td>\n",
              "      <td>San Jose</td>\n",
              "      <td>37.30213</td>\n",
              "      <td>-121.95890</td>\n",
              "      <td>Private room</td>\n",
              "      <td>61</td>\n",
              "      <td>2</td>\n",
              "      <td>36</td>\n",
              "      <td>2019-09-13</td>\n",
              "      <td>2.41</td>\n",
              "      <td>1</td>\n",
              "      <td>26</td>\n",
              "    </tr>\n",
              "  </tbody>\n",
              "</table>\n",
              "</div>"
            ],
            "text/plain": [
              "      id  ... availability_365\n",
              "0   4952  ...               52\n",
              "1  11464  ...               90\n",
              "2  21373  ...              276\n",
              "3  23732  ...              365\n",
              "4  37154  ...               26\n",
              "\n",
              "[5 rows x 16 columns]"
            ]
          },
          "metadata": {
            "tags": []
          },
          "execution_count": 3
        }
      ]
    },
    {
      "cell_type": "code",
      "metadata": {
        "id": "3FYkjdG1wsyY",
        "colab_type": "code",
        "colab": {
          "base_uri": "https://localhost:8080/",
          "height": 221
        },
        "outputId": "aef4a6cf-305b-4892-f23b-8e6e45b1b05c"
      },
      "source": [
        "# Target column is \"price\" and will need Regression model type\n",
        "\n",
        "listings['price'].value_counts()\n",
        "\n"
      ],
      "execution_count": 4,
      "outputs": [
        {
          "output_type": "execute_result",
          "data": {
            "text/plain": [
              "50       195\n",
              "75       189\n",
              "100      178\n",
              "60       168\n",
              "150      168\n",
              "        ... \n",
              "1100       1\n",
              "1180       1\n",
              "282        1\n",
              "10000      1\n",
              "16         1\n",
              "Name: price, Length: 441, dtype: int64"
            ]
          },
          "metadata": {
            "tags": []
          },
          "execution_count": 4
        }
      ]
    },
    {
      "cell_type": "code",
      "metadata": {
        "id": "kwIkvdtyxHHj",
        "colab_type": "code",
        "colab": {
          "base_uri": "https://localhost:8080/",
          "height": 170
        },
        "outputId": "09906586-fea5-44f9-e4b1-1207df7a54f1"
      },
      "source": [
        "listings['price'].describe()"
      ],
      "execution_count": 6,
      "outputs": [
        {
          "output_type": "execute_result",
          "data": {
            "text/plain": [
              "count     7435.000000\n",
              "mean       164.619906\n",
              "std        283.108458\n",
              "min         10.000000\n",
              "25%         65.000000\n",
              "50%        100.000000\n",
              "75%        185.000000\n",
              "max      10000.000000\n",
              "Name: price, dtype: float64"
            ]
          },
          "metadata": {
            "tags": []
          },
          "execution_count": 6
        }
      ]
    },
    {
      "cell_type": "code",
      "metadata": {
        "id": "6bR3-7kJxKX2",
        "colab_type": "code",
        "colab": {
          "base_uri": "https://localhost:8080/",
          "height": 279
        },
        "outputId": "2491c21a-c4e3-4dca-b0de-b1c5beba8c69"
      },
      "source": [
        "%matplotlib inline\n",
        "import seaborn as sns\n",
        "sns.distplot(listings['price']);\n"
      ],
      "execution_count": 7,
      "outputs": [
        {
          "output_type": "display_data",
          "data": {
            "image/png": "[encoded data removed]",
            "text/plain": [
              "<Figure size 432x288 with 1 Axes>"
            ]
          },
          "metadata": {
            "tags": []
          }
        }
      ]
    },
    {
      "cell_type": "code",
      "metadata": {
        "id": "u1rFi4ISxVKe",
        "colab_type": "code",
        "colab": {}
      },
      "source": [
        "# Target appeared right-skewed so need to apply log transformation\n",
        "\n",
        "import numpy as np\n",
        "price_log = np.log1p(listings['price'])"
      ],
      "execution_count": 0,
      "outputs": []
    },
    {
      "cell_type": "code",
      "metadata": {
        "id": "EjkfMURnx3di",
        "colab_type": "code",
        "colab": {
          "base_uri": "https://localhost:8080/",
          "height": 295
        },
        "outputId": "4db055db-da0b-4b9a-b728-8677d4328857"
      },
      "source": [
        "import matplotlib.pyplot as plt\n",
        "\n",
        "sns.distplot(price_log)\n",
        "plt.title('Log-transformed target'); # price here is log dollars"
      ],
      "execution_count": 17,
      "outputs": [
        {
          "output_type": "display_data",
          "data": {
            "image/png": "[encoded data removed]",
            "text/plain": [
              "<Figure size 432x288 with 1 Axes>"
            ]
          },
          "metadata": {
            "tags": []
          }
        }
      ]
    },
    {
      "cell_type": "code",
      "metadata": {
        "id": "BqbADxW2c6oQ",
        "colab_type": "code",
        "colab": {}
      },
      "source": [
        "#Removing Outliers?\n",
        "\n",
        "import numpy as np\n",
        "\n",
        "listings = listings[(listings['price'] >= np.percentile(listings['price'], 0.5)) & \n",
        "        (listings['price'] <= np.percentile(listings['price'], 99.5)) & \n",
        "        (listings['latitude'] >= np.percentile(listings['latitude'], 0.05)) & \n",
        "        (listings['latitude'] < np.percentile(listings['latitude'], 99.95)) &\n",
        "        (listings['longitude'] >= np.percentile(listings['longitude'], 0.05)) & \n",
        "        (listings['longitude'] <= np.percentile(listings['longitude'], 99.95))]"
      ],
      "execution_count": 0,
      "outputs": []
    },
    {
      "cell_type": "code",
      "metadata": {
        "id": "bIjvew8yyYrx",
        "colab_type": "code",
        "colab": {
          "base_uri": "https://localhost:8080/",
          "height": 34
        },
        "outputId": "b6f1f734-20ed-4040-e2fd-fdfbe9b5e20a"
      },
      "source": [
        "# Feature selection, splitting the data\n",
        "\n",
        "from sklearn.model_selection import train_test_split\n",
        "\n",
        "train, test = train_test_split(listings, test_size=0.20, random_state=42 )\n",
        "\n",
        "train, val = train_test_split(train, test_size=0.20, random_state=42 )\n",
        "\n",
        "train.shape, test.shape, val.shape"
      ],
      "execution_count": 18,
      "outputs": [
        {
          "output_type": "execute_result",
          "data": {
            "text/plain": [
              "((4704, 16), (1471, 16), (1176, 16))"
            ]
          },
          "metadata": {
            "tags": []
          },
          "execution_count": 18
        }
      ]
    },
    {
      "cell_type": "code",
      "metadata": {
        "id": "8JrNebEN5tpn",
        "colab_type": "code",
        "colab": {
          "base_uri": "https://localhost:8080/",
          "height": 51
        },
        "outputId": "21336e52-5e0e-44cf-a05f-573e502c1104"
      },
      "source": [
        "# The status_group column is the target\n",
        "target = 'price'\n",
        "\n",
        "# Get a dataframe with all train columns except the target & id\n",
        "train_features = train.drop(columns=[target, 'id'])\n",
        "\n",
        "# Get a list of the numeric features\n",
        "numeric_features = train_features.select_dtypes(include='number').columns.tolist()\n",
        "\n",
        "# Get a series with the cardinality of the nonnumeric features\n",
        "cardinality = train_features.select_dtypes(exclude='number').nunique()\n",
        "\n",
        "# Get a list of all categorical features with cardinality <= 50\n",
        "categorical_features = cardinality[cardinality <= 100].index.tolist()\n",
        "\n",
        "# Combine the lists \n",
        "features = numeric_features + categorical_features\n",
        "print(len(features))\n",
        "print(features)"
      ],
      "execution_count": 19,
      "outputs": [
        {
          "output_type": "stream",
          "text": [
            "11\n",
            "['host_id', 'neighbourhood_group', 'latitude', 'longitude', 'minimum_nights', 'number_of_reviews', 'reviews_per_month', 'calculated_host_listings_count', 'availability_365', 'neighbourhood', 'room_type']\n"
          ],
          "name": "stdout"
        }
      ]
    },
    {
      "cell_type": "code",
      "metadata": {
        "id": "7N1edVL56b-9",
        "colab_type": "code",
        "colab": {}
      },
      "source": [
        "X_train = train[features]\n",
        "y_train = train[target]\n",
        "X_val = val[features]\n",
        "y_val = val[target]\n",
        "X_test = test[features]\n",
        "y_test = test[target]"
      ],
      "execution_count": 0,
      "outputs": []
    },
    {
      "cell_type": "code",
      "metadata": {
        "id": "rOui78Mvcyes",
        "colab_type": "code",
        "colab": {}
      },
      "source": [
        "import category_encoders as ce\n",
        "from sklearn.impute import SimpleImputer\n",
        "from sklearn.pipeline import make_pipeline\n",
        "from sklearn.preprocessing import StandardScaler\n",
        "from sklearn.linear_model import LinearRegression\n",
        "from sklearn.metrics import mean_absolute_error\n",
        "from sklearn.model_selection import cross_val_predict, cross_val_score\n",
        "\n",
        "pipeline = make_pipeline(\n",
        "    ce.OneHotEncoder(use_cat_names=True), \n",
        "    SimpleImputer(strategy='mean'), \n",
        "    LinearRegression()\n",
        ")"
      ],
      "execution_count": 0,
      "outputs": []
    },
    {
      "cell_type": "code",
      "metadata": {
        "id": "QZSMc4VZdQHX",
        "colab_type": "code",
        "colab": {
          "base_uri": "https://localhost:8080/",
          "height": 34
        },
        "outputId": "3dcb15e9-3a38-4cc6-c263-b940000015e6"
      },
      "source": [
        "# Apply logarithmic transformation to data set before fitting the model\n",
        "\n",
        "y_train_log = np.log1p(y_train)\n",
        "y_val_log = np.log1p(y_val)\n",
        "pipeline.fit(X_train, y_train_log)\n",
        "y_pred_log = pipeline.predict(X_val)\n",
        "y_pred = np.expm1(y_pred_log)\n",
        "print(mean_absolute_error(y_val, y_pred))"
      ],
      "execution_count": 21,
      "outputs": [
        {
          "output_type": "stream",
          "text": [
            "82.0520173464766\n"
          ],
          "name": "stdout"
        }
      ]
    }
  ]
}