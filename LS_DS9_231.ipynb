{
  "nbformat": 4,
  "nbformat_minor": 0,
  "metadata": {
    "colab": {
      "name": "LS_DS9_231.ipynb",
      "provenance": [],
      "collapsed_sections": [],
      "include_colab_link": true
    },
    "kernelspec": {
      "name": "python3",
      "display_name": "Python 3"
    }
  },
  "cells": [
    {
      "cell_type": "markdown",
      "metadata": {
        "id": "view-in-github",
        "colab_type": "text"
      },
      "source": [
        "<a href=\"https://colab.research.google.com/github/nikibhatt/DS-Unit-2-Applied-Modeling/blob/master/LS_DS9_231.ipynb\" target=\"_parent\"><img src=\"https://colab.research.google.com/assets/colab-badge.svg\" alt=\"Open In Colab\"/></a>"
      ]
    },
    {
      "cell_type": "markdown",
      "metadata": {
        "id": "3O6z2z41gZPi",
        "colab_type": "text"
      },
      "source": [
        "# Burritos example"
      ]
    },
    {
      "cell_type": "code",
      "metadata": {
        "id": "EmbSulX3aTuD",
        "colab_type": "code",
        "outputId": "c06d3787-a812-4b06-be56-e52631875755",
        "colab": {
          "base_uri": "https://localhost:8080/",
          "height": 168
        }
      },
      "source": [
        "import pandas as pd\n",
        "url = ('https://raw.githubusercontent.com/'\n",
        "'LambdaSchool/DS-Unit-2-Linear-Models'\n",
        "'/master/data/burritos/burritos.csv')\n",
        "df = pd.read_csv(url)\n",
        "df['overall'].describe()"
      ],
      "execution_count": 0,
      "outputs": [
        {
          "output_type": "execute_result",
          "data": {
            "text/plain": [
              "count    421.000000\n",
              "mean       3.620887\n",
              "std        0.755718\n",
              "min        1.000000\n",
              "25%        3.100000\n",
              "50%        3.800000\n",
              "75%        4.100000\n",
              "max        5.000000\n",
              "Name: overall, dtype: float64"
            ]
          },
          "metadata": {
            "tags": []
          },
          "execution_count": 36
        }
      ]
    },
    {
      "cell_type": "markdown",
      "metadata": {
        "id": "fxAF4cIPgfYh",
        "colab_type": "text"
      },
      "source": [
        "# Choose your target. \n",
        "\n",
        "Which column in your tabular dataset will you predict?"
      ]
    },
    {
      "cell_type": "code",
      "metadata": {
        "id": "73R3lQzPc7Jm",
        "colab_type": "code",
        "outputId": "52ba4904-40c8-40b0-cd36-930e9b4c0d49",
        "colab": {
          "base_uri": "https://localhost:8080/",
          "height": 101
        }
      },
      "source": [
        "# Derive binary classification target:\n",
        "# We define a 'Great' burrito as having an\n",
        "# overall rating of 4 or higher, on a 5 point scale.\n",
        "# Drop unrated burritos.\n",
        "df = df.dropna(subset=['overall'])\n",
        "df['Great'] = df['overall'] >= 4\n",
        "df['Great'].describe()"
      ],
      "execution_count": 0,
      "outputs": [
        {
          "output_type": "execute_result",
          "data": {
            "text/plain": [
              "count       421\n",
              "unique        2\n",
              "top       False\n",
              "freq        239\n",
              "Name: Great, dtype: object"
            ]
          },
          "metadata": {
            "tags": []
          },
          "execution_count": 37
        }
      ]
    },
    {
      "cell_type": "markdown",
      "metadata": {
        "id": "overTirKgpIX",
        "colab_type": "text"
      },
      "source": [
        "I've derived my own target to redefine the target (previously 1-5 stars) to a binary classification problem: Predict if a burrito is \"Great\" or not."
      ]
    },
    {
      "cell_type": "markdown",
      "metadata": {
        "id": "8OMBoEX-3IUp",
        "colab_type": "text"
      },
      "source": [
        ""
      ]
    },
    {
      "cell_type": "markdown",
      "metadata": {
        "id": "FHcess9Ug7gX",
        "colab_type": "text"
      },
      "source": [
        "# How is your target distributed?\n",
        "\n",
        "Classification: How many classes? Are the classes imbalanced?"
      ]
    },
    {
      "cell_type": "code",
      "metadata": {
        "id": "MghM94kUgob_",
        "colab_type": "code",
        "colab": {}
      },
      "source": [
        "y = df['Great']"
      ],
      "execution_count": 0,
      "outputs": []
    },
    {
      "cell_type": "code",
      "metadata": {
        "id": "bKey2KkwhAUF",
        "colab_type": "code",
        "outputId": "9c34b311-1983-4cfa-9002-65264a48d877",
        "colab": {
          "base_uri": "https://localhost:8080/",
          "height": 34
        }
      },
      "source": [
        "y.nunique()"
      ],
      "execution_count": 0,
      "outputs": [
        {
          "output_type": "execute_result",
          "data": {
            "text/plain": [
              "2"
            ]
          },
          "metadata": {
            "tags": []
          },
          "execution_count": 39
        }
      ]
    },
    {
      "cell_type": "code",
      "metadata": {
        "id": "hRo-RnyshBfs",
        "colab_type": "code",
        "outputId": "f49cf1e5-4c2d-4bdb-d0e5-88a5393d08e2",
        "colab": {
          "base_uri": "https://localhost:8080/",
          "height": 34
        }
      },
      "source": [
        "y.value_counts(normalize=True).max()"
      ],
      "execution_count": 0,
      "outputs": [
        {
          "output_type": "execute_result",
          "data": {
            "text/plain": [
              "0.5676959619952494"
            ]
          },
          "metadata": {
            "tags": []
          },
          "execution_count": 40
        }
      ]
    },
    {
      "cell_type": "code",
      "metadata": {
        "id": "0SlUMEcFhH6C",
        "colab_type": "code",
        "outputId": "d2a750be-1b9e-4da4-cd9c-c3b25781620b",
        "colab": {
          "base_uri": "https://localhost:8080/",
          "height": 67
        }
      },
      "source": [
        "y.value_counts(normalize=True)"
      ],
      "execution_count": 0,
      "outputs": [
        {
          "output_type": "execute_result",
          "data": {
            "text/plain": [
              "False    0.567696\n",
              "True     0.432304\n",
              "Name: Great, dtype: float64"
            ]
          },
          "metadata": {
            "tags": []
          },
          "execution_count": 41
        }
      ]
    },
    {
      "cell_type": "markdown",
      "metadata": {
        "id": "izWgEPARptnY",
        "colab_type": "text"
      },
      "source": [
        "There are 2 classes, this is a binary classification problem. The majority class occurs with 57% frequency, so this is not too imbalanced. I could just use accuracy score as my evaluation metric.\n",
        "\n",
        "Precision when predicting great burritos may be the most important because I'm only going to eat one, so I want to make sure it's good.\n",
        "\n",
        "(On the other hand, is a \"bad\" burrito really that bad? Not to me, not from a taste perspective.)\n",
        "\n",
        "Recall when predicting great burritos could mean trying more things to make sure you don't miss some new, different, great burrito that you otherwise wouldn't have tried.\n",
        "\n",
        "Which burito place would you take your first date to? Precision."
      ]
    },
    {
      "cell_type": "markdown",
      "metadata": {
        "id": "vaOZNuktxY44",
        "colab_type": "text"
      },
      "source": [
        "# Begin to clean and explore your data"
      ]
    },
    {
      "cell_type": "code",
      "metadata": {
        "id": "aa84-5osxYgg",
        "colab_type": "code",
        "outputId": "b0f2d3b3-4a44-4a20-933d-f51ad28274c8",
        "colab": {
          "base_uri": "https://localhost:8080/",
          "height": 218
        }
      },
      "source": [
        "df['Burrito'].value_counts()"
      ],
      "execution_count": 0,
      "outputs": [
        {
          "output_type": "execute_result",
          "data": {
            "text/plain": [
              "California             101\n",
              "Carne asada             29\n",
              "California              26\n",
              "Carnitas                23\n",
              "Surf & Turf             14\n",
              "                      ... \n",
              "California Chipotle      1\n",
              "Chicken avocado          1\n",
              "Deborah's special        1\n",
              "Surf and turf            1\n",
              "Surf and turf            1\n",
              "Name: Burrito, Length: 132, dtype: int64"
            ]
          },
          "metadata": {
            "tags": []
          },
          "execution_count": 42
        }
      ]
    },
    {
      "cell_type": "code",
      "metadata": {
        "id": "f-MPaLTVxz82",
        "colab_type": "code",
        "outputId": "1a3d1736-b3ad-43c6-db4f-9514a60df41c",
        "colab": {
          "base_uri": "https://localhost:8080/",
          "height": 655
        }
      },
      "source": [
        "df['Burrito'].unique()"
      ],
      "execution_count": 0,
      "outputs": [
        {
          "output_type": "execute_result",
          "data": {
            "text/plain": [
              "array(['California ', 'Carnitas', 'Carne asada', 'California',\n",
              "       'combo chicken', 'Monster California', 'Carne Asada',\n",
              "       'Surf & Turf', 'Chile verde pork', 'battered fish ',\n",
              "       'Surf and turf ', 'Adobada ', 'Barbacoa', '2 in 1', 'Adobado',\n",
              "       'Shredded beef', 'Hawaiian', 'Bandido', 'Campeon', 'carne asada',\n",
              "       'California chicken', 'Azteca', 'Lobster', 'Al pastor', 'Custom',\n",
              "       'Machaca', 'Quesaburro', 'Philly ', 'Quesa', 'Surf and turf',\n",
              "       'Mahi', 'Addiction', 'Oaxacalifornia', \"Deborah's special\",\n",
              "       'Chicken nopalito', 'Adobada', 'Chicken', 'California Everything',\n",
              "       'Chile relleno and carnitas', 'California (only cheese)', 'Fish',\n",
              "       'Chimichanga beef', 'Pastor', 'El Hawaiiano ', 'Shrimp',\n",
              "       'El Rusio', 'Bacon breakfast', 'Chile Relleno', 'Bomb', 'Arizona',\n",
              "       'California Burrito', '619 Burrito Original', 'Chicken asada',\n",
              "       'Carne adobada ', 'Bean and cheese', 'Pokirrito classic ',\n",
              "       'Mauna Lani', 'Especial ', 'Ranchero steak', 'Vegetarian',\n",
              "       'Colimas burrito', 'Bean and rice grande size', 'Surf and Turf',\n",
              "       'Bean and Cheese', 'Pollo california', 'California breakfast',\n",
              "       'Baja monster', 'Local', 'Fusion', 'California Surf', 'Super',\n",
              "       'Mixed', 'Carne asada everything', 'Pollo asado', 'Tilapia one',\n",
              "       'Surfin California', 'Nutty', 'Veg Out', 'Veggie',\n",
              "       'California - Steak', 'California - Pork Adobada',\n",
              "       'California - Chicken', 'Holy Moly', 'Barbacoa ',\n",
              "       'California + Guac + sour cream', 'Al Pastor', 'Pollo adobado',\n",
              "       'Asada', 'California Chipotle', \"Dave's California\",\n",
              "       'Chicken and rice', 'Breakfast', 'Fajitas ', 'Tejano',\n",
              "       'Shrimp with guac', 'Bean & cheese', 'Al pastor ',\n",
              "       'Carne asada supreme', 'Cali Diablo', 'Pork california',\n",
              "       'Bitchin California', 'Tijuana', 'Combo chicken',\n",
              "       'Chicken avocado', 'Cabeza', 'Chicken Shawarma', 'Hot cheetos',\n",
              "       'Spicy a la Diabla', 'California everything',\n",
              "       'California everything mini', 'TGunz', 'Al pastor tradicional ',\n",
              "       'Grilled fish salmon', 'Cheese steak', 'California Surf and Turf',\n",
              "       'Shrimp california', 'carne asada ', 'fried fish',\n",
              "       'Steak everything ', 'Golden State', 'Steak fajitas', 'Hashbrown',\n",
              "       'Steak with guacamole', 'Chile Verde (pork)', 'Supreme chicken',\n",
              "       'Carnitas ', 'Alambre california', 'Surfin california',\n",
              "       'Ado-haba california', 'Ala tingada california', 'La Paz',\n",
              "       'Pollo Asado'], dtype=object)"
            ]
          },
          "metadata": {
            "tags": []
          },
          "execution_count": 43
        }
      ]
    },
    {
      "cell_type": "code",
      "metadata": {
        "id": "1QMLd742yEfq",
        "colab_type": "code",
        "colab": {}
      },
      "source": [
        "# Clean/combine the Burrito categories\n",
        "df['Burrito'] = df['Burrito'].str.lower()"
      ],
      "execution_count": 0,
      "outputs": []
    },
    {
      "cell_type": "code",
      "metadata": {
        "id": "7bXdtDHNyefk",
        "colab_type": "code",
        "outputId": "1e2d943f-97e9-4b20-9360-cd6db6d2492a",
        "colab": {
          "base_uri": "https://localhost:8080/",
          "height": 34
        }
      },
      "source": [
        "df['Burrito'].nunique()"
      ],
      "execution_count": 0,
      "outputs": [
        {
          "output_type": "execute_result",
          "data": {
            "text/plain": [
              "123"
            ]
          },
          "metadata": {
            "tags": []
          },
          "execution_count": 49
        }
      ]
    },
    {
      "cell_type": "code",
      "metadata": {
        "id": "bH5RCIRQyLnY",
        "colab_type": "code",
        "colab": {}
      },
      "source": [
        "california = df['Burrito'].str.contains('california')\n",
        "asada = df['Burrito'].str.contains('asada')\n",
        "surf = df['Burrito'].str.contains('surf')\n",
        "carnitas = df['Burrito'].str.contains('carnitas')"
      ],
      "execution_count": 0,
      "outputs": []
    },
    {
      "cell_type": "code",
      "metadata": {
        "id": "SxsaFdfNyNn9",
        "colab_type": "code",
        "outputId": "ce855488-ddd8-46d4-d097-fd3ed2fe208a",
        "colab": {
          "base_uri": "https://localhost:8080/",
          "height": 67
        }
      },
      "source": [
        "california.value_counts()"
      ],
      "execution_count": 0,
      "outputs": [
        {
          "output_type": "execute_result",
          "data": {
            "text/plain": [
              "False    241\n",
              "True     180\n",
              "Name: Burrito, dtype: int64"
            ]
          },
          "metadata": {
            "tags": []
          },
          "execution_count": 51
        }
      ]
    },
    {
      "cell_type": "code",
      "metadata": {
        "id": "R9SoagIZytNW",
        "colab_type": "code",
        "colab": {}
      },
      "source": [
        "df.loc[california, 'Burrito'] = 'California'\n",
        "df.loc[asada, 'Burrito'] = 'Asada'\n",
        "df.loc[surf, 'Burrito'] = 'Surf & Turf'\n",
        "df.loc[carnitas, 'Burrito'] = 'Carnitas'\n",
        "df.loc[~california & ~asada & ~surf & ~carnitas, 'Burrito'] = 'Other'"
      ],
      "execution_count": 0,
      "outputs": []
    },
    {
      "cell_type": "code",
      "metadata": {
        "id": "QEF2GhACytwF",
        "colab_type": "code",
        "outputId": "85ff2336-a789-4d5b-e3c8-e5dd45032747",
        "colab": {
          "base_uri": "https://localhost:8080/",
          "height": 118
        }
      },
      "source": [
        "df['Burrito'].value_counts()"
      ],
      "execution_count": 0,
      "outputs": [
        {
          "output_type": "execute_result",
          "data": {
            "text/plain": [
              "California     169\n",
              "Other          156\n",
              "Asada           43\n",
              "Surf & Turf     28\n",
              "Carnitas        25\n",
              "Name: Burrito, dtype: int64"
            ]
          },
          "metadata": {
            "tags": []
          },
          "execution_count": 53
        }
      ]
    },
    {
      "cell_type": "code",
      "metadata": {
        "id": "sTZIAi50y54k",
        "colab_type": "code",
        "colab": {}
      },
      "source": [
        "# Drop some high cardinality categoricals\n",
        "df = df.drop(columns=['Notes', 'Location', 'Reviewer', 'Address', 'URL', 'Neighborhood'])"
      ],
      "execution_count": 0,
      "outputs": []
    },
    {
      "cell_type": "markdown",
      "metadata": {
        "id": "5NWkwHeIzD5e",
        "colab_type": "text"
      },
      "source": [
        "# What happens if we *DON'T* drop features with leakage?"
      ]
    },
    {
      "cell_type": "code",
      "metadata": {
        "id": "j4eVG0BGy-BB",
        "colab_type": "code",
        "outputId": "7b39052d-34aa-4ccd-9c6f-da8f0c457d42",
        "colab": {
          "base_uri": "https://localhost:8080/",
          "height": 34
        }
      },
      "source": [
        "import category_encoders as ce\n",
        "from sklearn.impute import SimpleImputer\n",
        "from sklearn.model_selection import cross_val_score, train_test_split\n",
        "from sklearn.pipeline import make_pipeline\n",
        "from sklearn.tree import DecisionTreeClassifier\n",
        "\n",
        "target = 'Great'\n",
        "features = df.columns.drop(target)\n",
        "X = df[features]\n",
        "y = df[target]\n",
        "\n",
        "X_train, X_test, y_train, y_test = train_test_split(\n",
        "    X, y, random_state=42\n",
        ")\n",
        "\n",
        "pipeline = make_pipeline(\n",
        "    ce.OrdinalEncoder(), \n",
        "    SimpleImputer(), \n",
        "    DecisionTreeClassifier(max_depth=3)\n",
        ")\n",
        "\n",
        "cross_val_score(pipeline, X_train, y_train, scoring='accuracy', cv=5)"
      ],
      "execution_count": 0,
      "outputs": [
        {
          "output_type": "execute_result",
          "data": {
            "text/plain": [
              "array([1., 1., 1., 1., 1.])"
            ]
          },
          "metadata": {
            "tags": []
          },
          "execution_count": 62
        }
      ]
    },
    {
      "cell_type": "code",
      "metadata": {
        "id": "uJaqLU34zwi8",
        "colab_type": "code",
        "outputId": "72a1b109-9080-4317-d3b6-7ef906f0810c",
        "colab": {
          "base_uri": "https://localhost:8080/",
          "height": 330
        }
      },
      "source": [
        "pipeline.fit(X_train, y_train)\n",
        "tree = pipeline.named_steps['decisiontreeclassifier']\n",
        "encoder = pipeline.named_steps['ordinalencoder']\n",
        "X_train_encoded = encoder.transform(X_train)\n",
        "\n",
        "importances = pd.Series(tree.feature_importances_, X_train_encoded.columns)\n",
        "importances.sort_values().plot.barh();"
      ],
      "execution_count": 0,
      "outputs": [
        {
          "output_type": "error",
          "ename": "ValueError",
          "evalue": "ignored",
          "traceback": [
            "\u001b[0;31m---------------------------------------------------------------------------\u001b[0m",
            "\u001b[0;31mValueError\u001b[0m                                Traceback (most recent call last)",
            "\u001b[0;32m<ipython-input-63-ace46323404b>\u001b[0m in \u001b[0;36m<module>\u001b[0;34m()\u001b[0m\n\u001b[1;32m      4\u001b[0m \u001b[0mX_train_encoded\u001b[0m \u001b[0;34m=\u001b[0m \u001b[0mencoder\u001b[0m\u001b[0;34m.\u001b[0m\u001b[0mtransform\u001b[0m\u001b[0;34m(\u001b[0m\u001b[0mX_train\u001b[0m\u001b[0;34m)\u001b[0m\u001b[0;34m\u001b[0m\u001b[0;34m\u001b[0m\u001b[0m\n\u001b[1;32m      5\u001b[0m \u001b[0;34m\u001b[0m\u001b[0m\n\u001b[0;32m----> 6\u001b[0;31m \u001b[0mimportances\u001b[0m \u001b[0;34m=\u001b[0m \u001b[0mpd\u001b[0m\u001b[0;34m.\u001b[0m\u001b[0mSeries\u001b[0m\u001b[0;34m(\u001b[0m\u001b[0mtree\u001b[0m\u001b[0;34m.\u001b[0m\u001b[0mfeature_importances_\u001b[0m\u001b[0;34m,\u001b[0m \u001b[0mX_train_encoded\u001b[0m\u001b[0;34m.\u001b[0m\u001b[0mcolumns\u001b[0m\u001b[0;34m)\u001b[0m\u001b[0;34m\u001b[0m\u001b[0;34m\u001b[0m\u001b[0m\n\u001b[0m\u001b[1;32m      7\u001b[0m \u001b[0mimportances\u001b[0m\u001b[0;34m.\u001b[0m\u001b[0msort_values\u001b[0m\u001b[0;34m(\u001b[0m\u001b[0;34m)\u001b[0m\u001b[0;34m.\u001b[0m\u001b[0mplot\u001b[0m\u001b[0;34m.\u001b[0m\u001b[0mbarh\u001b[0m\u001b[0;34m(\u001b[0m\u001b[0;34m)\u001b[0m\u001b[0;34m;\u001b[0m\u001b[0;34m\u001b[0m\u001b[0;34m\u001b[0m\u001b[0m\n",
            "\u001b[0;32m/usr/local/lib/python3.6/dist-packages/pandas/core/series.py\u001b[0m in \u001b[0;36m__init__\u001b[0;34m(self, data, index, dtype, name, copy, fastpath)\u001b[0m\n\u001b[1;32m    300\u001b[0m                         raise ValueError(\n\u001b[1;32m    301\u001b[0m                             \u001b[0;34m\"Length of passed values is {val}, \"\u001b[0m\u001b[0;34m\u001b[0m\u001b[0;34m\u001b[0m\u001b[0m\n\u001b[0;32m--> 302\u001b[0;31m                             \u001b[0;34m\"index implies {ind}\"\u001b[0m\u001b[0;34m.\u001b[0m\u001b[0mformat\u001b[0m\u001b[0;34m(\u001b[0m\u001b[0mval\u001b[0m\u001b[0;34m=\u001b[0m\u001b[0mlen\u001b[0m\u001b[0;34m(\u001b[0m\u001b[0mdata\u001b[0m\u001b[0;34m)\u001b[0m\u001b[0;34m,\u001b[0m \u001b[0mind\u001b[0m\u001b[0;34m=\u001b[0m\u001b[0mlen\u001b[0m\u001b[0;34m(\u001b[0m\u001b[0mindex\u001b[0m\u001b[0;34m)\u001b[0m\u001b[0;34m)\u001b[0m\u001b[0;34m\u001b[0m\u001b[0;34m\u001b[0m\u001b[0m\n\u001b[0m\u001b[1;32m    303\u001b[0m                         )\n\u001b[1;32m    304\u001b[0m                 \u001b[0;32mexcept\u001b[0m \u001b[0mTypeError\u001b[0m\u001b[0;34m:\u001b[0m\u001b[0;34m\u001b[0m\u001b[0;34m\u001b[0m\u001b[0m\n",
            "\u001b[0;31mValueError\u001b[0m: Length of passed values is 59, index implies 60"
          ]
        }
      ]
    },
    {
      "cell_type": "markdown",
      "metadata": {
        "id": "e4S_UPUI0hKb",
        "colab_type": "text"
      },
      "source": [
        "# Titanic"
      ]
    },
    {
      "cell_type": "code",
      "metadata": {
        "id": "td9LOHV00dy8",
        "colab_type": "code",
        "outputId": "1fbcaa65-a05a-4135-ce3f-d3caab557557",
        "colab": {
          "base_uri": "https://localhost:8080/",
          "height": 34
        }
      },
      "source": [
        "df = sns.load_dataset('titanic')\n",
        "\n",
        "target = 'survived'\n",
        "features = df.columns.drop(target)\n",
        "X = df[features]\n",
        "y = df[target]\n",
        "\n",
        "X_train, X_test, y_train, y_test = train_test_split(\n",
        "    X, y, random_state=42)\n",
        "\n",
        "pipeline = make_pipeline(\n",
        "    ce.OrdinalEncoder(), \n",
        "    SimpleImputer(), \n",
        "    DecisionTreeClassifier(max_depth=3)\n",
        ")\n",
        "\n",
        "cross_val_score(pipeline, X_train, y_train, scoring='accuracy', cv=5)"
      ],
      "execution_count": 0,
      "outputs": [
        {
          "output_type": "execute_result",
          "data": {
            "text/plain": [
              "array([1., 1., 1., 1., 1.])"
            ]
          },
          "metadata": {
            "tags": []
          },
          "execution_count": 64
        }
      ]
    },
    {
      "cell_type": "code",
      "metadata": {
        "id": "CW7EP1Ww0oZP",
        "colab_type": "code",
        "outputId": "2676ad97-75a1-46c6-b60c-a9ec0da05640",
        "colab": {
          "base_uri": "https://localhost:8080/",
          "height": 265
        }
      },
      "source": [
        "pipeline.fit(X_train, y_train)\n",
        "tree = pipeline.named_steps['decisiontreeclassifier']\n",
        "\n",
        "importances = pd.Series(tree.feature_importances_, X_train.columns)\n",
        "importances.sort_values().plot.barh();"
      ],
      "execution_count": 0,
      "outputs": [
        {
          "output_type": "display_data",
          "data": {
            "image/png": "[encoded data removed]",
            "text/plain": [
              "<Figure size 432x288 with 1 Axes>"
            ]
          },
          "metadata": {
            "tags": []
          }
        }
      ]
    },
    {
      "cell_type": "code",
      "metadata": {
        "id": "uL9YbuIB0t7e",
        "colab_type": "code",
        "outputId": "1ffc8021-b532-49cb-fac5-c673ec453cfc",
        "colab": {
          "base_uri": "https://localhost:8080/",
          "height": 195
        }
      },
      "source": [
        "df.head()"
      ],
      "execution_count": 0,
      "outputs": [
        {
          "output_type": "execute_result",
          "data": {
            "text/html": [
              "<div>\n",
              "<style scoped>\n",
              "    .dataframe tbody tr th:only-of-type {\n",
              "        vertical-align: middle;\n",
              "    }\n",
              "\n",
              "    .dataframe tbody tr th {\n",
              "        vertical-align: top;\n",
              "    }\n",
              "\n",
              "    .dataframe thead th {\n",
              "        text-align: right;\n",
              "    }\n",
              "</style>\n",
              "<table border=\"1\" class=\"dataframe\">\n",
              "  <thead>\n",
              "    <tr style=\"text-align: right;\">\n",
              "      <th></th>\n",
              "      <th>survived</th>\n",
              "      <th>pclass</th>\n",
              "      <th>sex</th>\n",
              "      <th>age</th>\n",
              "      <th>sibsp</th>\n",
              "      <th>parch</th>\n",
              "      <th>fare</th>\n",
              "      <th>embarked</th>\n",
              "      <th>class</th>\n",
              "      <th>who</th>\n",
              "      <th>adult_male</th>\n",
              "      <th>deck</th>\n",
              "      <th>embark_town</th>\n",
              "      <th>alive</th>\n",
              "      <th>alone</th>\n",
              "    </tr>\n",
              "  </thead>\n",
              "  <tbody>\n",
              "    <tr>\n",
              "      <th>0</th>\n",
              "      <td>0</td>\n",
              "      <td>3</td>\n",
              "      <td>male</td>\n",
              "      <td>22.0</td>\n",
              "      <td>1</td>\n",
              "      <td>0</td>\n",
              "      <td>7.2500</td>\n",
              "      <td>S</td>\n",
              "      <td>Third</td>\n",
              "      <td>man</td>\n",
              "      <td>True</td>\n",
              "      <td>NaN</td>\n",
              "      <td>Southampton</td>\n",
              "      <td>no</td>\n",
              "      <td>False</td>\n",
              "    </tr>\n",
              "    <tr>\n",
              "      <th>1</th>\n",
              "      <td>1</td>\n",
              "      <td>1</td>\n",
              "      <td>female</td>\n",
              "      <td>38.0</td>\n",
              "      <td>1</td>\n",
              "      <td>0</td>\n",
              "      <td>71.2833</td>\n",
              "      <td>C</td>\n",
              "      <td>First</td>\n",
              "      <td>woman</td>\n",
              "      <td>False</td>\n",
              "      <td>C</td>\n",
              "      <td>Cherbourg</td>\n",
              "      <td>yes</td>\n",
              "      <td>False</td>\n",
              "    </tr>\n",
              "    <tr>\n",
              "      <th>2</th>\n",
              "      <td>1</td>\n",
              "      <td>3</td>\n",
              "      <td>female</td>\n",
              "      <td>26.0</td>\n",
              "      <td>0</td>\n",
              "      <td>0</td>\n",
              "      <td>7.9250</td>\n",
              "      <td>S</td>\n",
              "      <td>Third</td>\n",
              "      <td>woman</td>\n",
              "      <td>False</td>\n",
              "      <td>NaN</td>\n",
              "      <td>Southampton</td>\n",
              "      <td>yes</td>\n",
              "      <td>True</td>\n",
              "    </tr>\n",
              "    <tr>\n",
              "      <th>3</th>\n",
              "      <td>1</td>\n",
              "      <td>1</td>\n",
              "      <td>female</td>\n",
              "      <td>35.0</td>\n",
              "      <td>1</td>\n",
              "      <td>0</td>\n",
              "      <td>53.1000</td>\n",
              "      <td>S</td>\n",
              "      <td>First</td>\n",
              "      <td>woman</td>\n",
              "      <td>False</td>\n",
              "      <td>C</td>\n",
              "      <td>Southampton</td>\n",
              "      <td>yes</td>\n",
              "      <td>False</td>\n",
              "    </tr>\n",
              "    <tr>\n",
              "      <th>4</th>\n",
              "      <td>0</td>\n",
              "      <td>3</td>\n",
              "      <td>male</td>\n",
              "      <td>35.0</td>\n",
              "      <td>0</td>\n",
              "      <td>0</td>\n",
              "      <td>8.0500</td>\n",
              "      <td>S</td>\n",
              "      <td>Third</td>\n",
              "      <td>man</td>\n",
              "      <td>True</td>\n",
              "      <td>NaN</td>\n",
              "      <td>Southampton</td>\n",
              "      <td>no</td>\n",
              "      <td>True</td>\n",
              "    </tr>\n",
              "  </tbody>\n",
              "</table>\n",
              "</div>"
            ],
            "text/plain": [
              "   survived  pclass     sex   age  ...  deck  embark_town  alive  alone\n",
              "0         0       3    male  22.0  ...   NaN  Southampton     no  False\n",
              "1         1       1  female  38.0  ...     C    Cherbourg    yes  False\n",
              "2         1       3  female  26.0  ...   NaN  Southampton    yes   True\n",
              "3         1       1  female  35.0  ...     C  Southampton    yes  False\n",
              "4         0       3    male  35.0  ...   NaN  Southampton     no   True\n",
              "\n",
              "[5 rows x 15 columns]"
            ]
          },
          "metadata": {
            "tags": []
          },
          "execution_count": 66
        }
      ]
    },
    {
      "cell_type": "code",
      "metadata": {
        "id": "R-qD7i6y1DuY",
        "colab_type": "code",
        "outputId": "361c6c36-ff18-46d7-dbc3-6ff0ef538e82",
        "colab": {
          "base_uri": "https://localhost:8080/",
          "height": 241
        }
      },
      "source": [
        "import graphviz\n",
        "from sklearn.tree import export_graphviz\n",
        "\n",
        "pipeline.fit(X_train, y_train)\n",
        "tree = pipeline.named_steps['decisiontreeclassifier']\n",
        "\n",
        "dot_data = export_graphviz(\n",
        "    tree, \n",
        "    out_file=None, \n",
        "    feature_names=X.columns, \n",
        "    class_names=y.unique().astype(str), \n",
        "    filled=True, \n",
        "    impurity=False, \n",
        "    proportion=True)\n",
        "\n",
        "graphviz.Source(dot_data)"
      ],
      "execution_count": 0,
      "outputs": [
        {
          "output_type": "execute_result",
          "data": {
            "text/plain": [
              "<graphviz.files.Source at 0x7f3610f1fe48>"
            ],
            "image/svg+xml": "<?xml version=\"1.0\" encoding=\"UTF-8\" standalone=\"no\"?>\n<!DOCTYPE svg PUBLIC \"-//W3C//DTD SVG 1.1//EN\"\n \"http://www.w3.org/Graphics/SVG/1.1/DTD/svg11.dtd\">\n<!-- Generated by graphviz version 2.40.1 (20161225.0304)\n -->\n<!-- Title: Tree Pages: 1 -->\n<svg width=\"260pt\" height=\"165pt\"\n viewBox=\"0.00 0.00 260.00 165.00\" xmlns=\"http://www.w3.org/2000/svg\" xmlns:xlink=\"http://www.w3.org/1999/xlink\">\n<g id=\"graph0\" class=\"graph\" transform=\"scale(1 1) rotate(0) translate(4 161)\">\n<title>Tree</title>\n<polygon fill=\"#ffffff\" stroke=\"transparent\" points=\"-4,4 -4,-161 256,-161 256,4 -4,4\"/>\n<!-- 0 -->\n<g id=\"node1\" class=\"node\">\n<title>0</title>\n<polygon fill=\"#f5ceb2\" stroke=\"#000000\" points=\"199,-157 52,-157 52,-89 199,-89 199,-157\"/>\n<text text-anchor=\"middle\" x=\"125.5\" y=\"-141.8\" font-family=\"Times,serif\" font-size=\"14.00\" fill=\"#000000\">alive &lt;= 1.5</text>\n<text text-anchor=\"middle\" x=\"125.5\" y=\"-126.8\" font-family=\"Times,serif\" font-size=\"14.00\" fill=\"#000000\">samples = 100.0%</text>\n<text text-anchor=\"middle\" x=\"125.5\" y=\"-111.8\" font-family=\"Times,serif\" font-size=\"14.00\" fill=\"#000000\">value = [0.621, 0.379]</text>\n<text text-anchor=\"middle\" x=\"125.5\" y=\"-96.8\" font-family=\"Times,serif\" font-size=\"14.00\" fill=\"#000000\">class = 0</text>\n</g>\n<!-- 1 -->\n<g id=\"node2\" class=\"node\">\n<title>1</title>\n<polygon fill=\"#399de5\" stroke=\"#000000\" points=\"117,-53 0,-53 0,0 117,0 117,-53\"/>\n<text text-anchor=\"middle\" x=\"58.5\" y=\"-37.8\" font-family=\"Times,serif\" font-size=\"14.00\" fill=\"#000000\">samples = 37.9%</text>\n<text text-anchor=\"middle\" x=\"58.5\" y=\"-22.8\" font-family=\"Times,serif\" font-size=\"14.00\" fill=\"#000000\">value = [0.0, 1.0]</text>\n<text text-anchor=\"middle\" x=\"58.5\" y=\"-7.8\" font-family=\"Times,serif\" font-size=\"14.00\" fill=\"#000000\">class = 1</text>\n</g>\n<!-- 0&#45;&gt;1 -->\n<g id=\"edge1\" class=\"edge\">\n<title>0&#45;&gt;1</title>\n<path fill=\"none\" stroke=\"#000000\" d=\"M101.8783,-88.9777C95.7113,-80.0954 89.0539,-70.5067 82.8499,-61.5711\"/>\n<polygon fill=\"#000000\" stroke=\"#000000\" points=\"85.6497,-59.4666 77.0715,-53.2485 79.8997,-63.4589 85.6497,-59.4666\"/>\n<text text-anchor=\"middle\" x=\"72.6325\" y=\"-74.1512\" font-family=\"Times,serif\" font-size=\"14.00\" fill=\"#000000\">True</text>\n</g>\n<!-- 2 -->\n<g id=\"node3\" class=\"node\">\n<title>2</title>\n<polygon fill=\"#e58139\" stroke=\"#000000\" points=\"252,-53 135,-53 135,0 252,0 252,-53\"/>\n<text text-anchor=\"middle\" x=\"193.5\" y=\"-37.8\" font-family=\"Times,serif\" font-size=\"14.00\" fill=\"#000000\">samples = 62.1%</text>\n<text text-anchor=\"middle\" x=\"193.5\" y=\"-22.8\" font-family=\"Times,serif\" font-size=\"14.00\" fill=\"#000000\">value = [1.0, 0.0]</text>\n<text text-anchor=\"middle\" x=\"193.5\" y=\"-7.8\" font-family=\"Times,serif\" font-size=\"14.00\" fill=\"#000000\">class = 0</text>\n</g>\n<!-- 0&#45;&gt;2 -->\n<g id=\"edge2\" class=\"edge\">\n<title>0&#45;&gt;2</title>\n<path fill=\"none\" stroke=\"#000000\" d=\"M149.4743,-88.9777C155.7333,-80.0954 162.4901,-70.5067 168.7867,-61.5711\"/>\n<polygon fill=\"#000000\" stroke=\"#000000\" points=\"171.7521,-63.4389 174.6513,-53.2485 166.0301,-59.4068 171.7521,-63.4389\"/>\n<text text-anchor=\"middle\" x=\"178.9191\" y=\"-74.1815\" font-family=\"Times,serif\" font-size=\"14.00\" fill=\"#000000\">False</text>\n</g>\n</g>\n</svg>\n"
          },
          "metadata": {
            "tags": []
          },
          "execution_count": 67
        }
      ]
    },
    {
      "cell_type": "markdown",
      "metadata": {
        "id": "2JjgVxD8sIXy",
        "colab_type": "text"
      },
      "source": [
        "# Regression: NYC apartment data"
      ]
    },
    {
      "cell_type": "code",
      "metadata": {
        "id": "AmqLUcirhKG3",
        "colab_type": "code",
        "colab": {}
      },
      "source": [
        "%%capture\n",
        "import sys\n",
        "\n",
        "# If you're on Colab:\n",
        "if 'google.colab' in sys.modules:\n",
        "    DATA_PATH = 'https://raw.githubusercontent.com/LambdaSchool/DS-Unit-2-Applied-Modeling/master/data/'\n",
        "    !pip install category_encoders==2.*\n",
        "    \n",
        "# If you're working locally:\n",
        "else:\n",
        "    DATA_PATH = '../data/'"
      ],
      "execution_count": 0,
      "outputs": []
    },
    {
      "cell_type": "code",
      "metadata": {
        "id": "aWU1rEsLsNX-",
        "colab_type": "code",
        "colab": {}
      },
      "source": [
        "import numpy as np\n",
        "import pandas as pd\n",
        "\n",
        "# Read New York City apartment rental listing data\n",
        "df = pd.read_csv(DATA_PATH+'apartments/renthop-nyc.csv')\n",
        "assert df.shape == (49352, 34)"
      ],
      "execution_count": 0,
      "outputs": []
    },
    {
      "cell_type": "code",
      "metadata": {
        "id": "vLko0fOTsQij",
        "colab_type": "code",
        "colab": {}
      },
      "source": [
        "y = df['price']"
      ],
      "execution_count": 0,
      "outputs": []
    },
    {
      "cell_type": "code",
      "metadata": {
        "id": "xlsfr_2GsWRp",
        "colab_type": "code",
        "outputId": "c2b93558-7fe7-44e8-ef1c-d761ba0b6c16",
        "colab": {
          "base_uri": "https://localhost:8080/",
          "height": 279
        }
      },
      "source": [
        "%matplotlib inline\n",
        "import seaborn as sns\n",
        "sns.distplot(y);"
      ],
      "execution_count": 0,
      "outputs": [
        {
          "output_type": "display_data",
          "data": {
            "image/png": "[encoded data removed]",
            "text/plain": [
              "<Figure size 432x288 with 1 Axes>"
            ]
          },
          "metadata": {
            "tags": []
          }
        }
      ]
    },
    {
      "cell_type": "code",
      "metadata": {
        "id": "cvSCFJqssaST",
        "colab_type": "code",
        "outputId": "6b16d79a-06ab-4c8a-d2ae-4d246e23fc35",
        "colab": {
          "base_uri": "https://localhost:8080/",
          "height": 168
        }
      },
      "source": [
        "y.describe()"
      ],
      "execution_count": 0,
      "outputs": [
        {
          "output_type": "execute_result",
          "data": {
            "text/plain": [
              "count    4.935200e+04\n",
              "mean     3.830174e+03\n",
              "std      2.206687e+04\n",
              "min      4.300000e+01\n",
              "25%      2.500000e+03\n",
              "50%      3.150000e+03\n",
              "75%      4.100000e+03\n",
              "max      4.490000e+06\n",
              "Name: price, dtype: float64"
            ]
          },
          "metadata": {
            "tags": []
          },
          "execution_count": 13
        }
      ]
    },
    {
      "cell_type": "code",
      "metadata": {
        "id": "B01wj-zSsfPF",
        "colab_type": "code",
        "outputId": "5210b37e-b6f8-4deb-a829-ac69ab22acac",
        "colab": {
          "base_uri": "https://localhost:8080/",
          "height": 67
        }
      },
      "source": [
        "(y < 100).value_counts()"
      ],
      "execution_count": 0,
      "outputs": [
        {
          "output_type": "execute_result",
          "data": {
            "text/plain": [
              "False    49350\n",
              "True         2\n",
              "Name: price, dtype: int64"
            ]
          },
          "metadata": {
            "tags": []
          },
          "execution_count": 16
        }
      ]
    },
    {
      "cell_type": "markdown",
      "metadata": {
        "id": "dpauHixJtDxI",
        "colab_type": "text"
      },
      "source": [
        "# Are some observations outliers? \n",
        "\n",
        "Will you exclude\n",
        "them?"
      ]
    },
    {
      "cell_type": "code",
      "metadata": {
        "id": "C2-coskUtDFA",
        "colab_type": "code",
        "colab": {}
      },
      "source": [
        "# Yes! There are outliers\n",
        "# Some prices that are so high or low it doesn't really make sense.\n",
        "# SOme locations that aren't even in New York City."
      ],
      "execution_count": 0,
      "outputs": []
    },
    {
      "cell_type": "code",
      "metadata": {
        "id": "OOAYP-Gqsskw",
        "colab_type": "code",
        "colab": {}
      },
      "source": [
        "# Remove the most extreme 1% prices,\n",
        "# the most extreme .1% latitudes, &\n",
        "# the most extreme .1% longitudes\n",
        "df = df[(df['price'] >= np.percentile(df['price'], 0.5)) & \n",
        "        (df['price'] <= np.percentile(df['price'], 99.5)) & \n",
        "        (df['latitude'] >= np.percentile(df['latitude'], 0.05)) & \n",
        "        (df['latitude'] < np.percentile(df['latitude'], 99.95)) &\n",
        "        (df['longitude'] >= np.percentile(df['longitude'], 0.05)) & \n",
        "        (df['longitude'] <= np.percentile(df['longitude'], 99.95))]"
      ],
      "execution_count": 0,
      "outputs": []
    },
    {
      "cell_type": "code",
      "metadata": {
        "id": "quX_J2RxtTrX",
        "colab_type": "code",
        "outputId": "29b6f1ac-98ab-41c0-afd1-bc07c4377b1c",
        "colab": {
          "base_uri": "https://localhost:8080/",
          "height": 279
        }
      },
      "source": [
        "y = df['price']\n",
        "sns.distplot(y);"
      ],
      "execution_count": 0,
      "outputs": [
        {
          "output_type": "display_data",
          "data": {
            "image/png": "[encoded data removed]",
            "text/plain": [
              "<Figure size 432x288 with 1 Axes>"
            ]
          },
          "metadata": {
            "tags": []
          }
        }
      ]
    },
    {
      "cell_type": "code",
      "metadata": {
        "id": "eY_0wLPVtWr6",
        "colab_type": "code",
        "outputId": "61cbdf0b-12e2-4e23-d3bd-f54912fba3ee",
        "colab": {
          "base_uri": "https://localhost:8080/",
          "height": 168
        }
      },
      "source": [
        "y.describe()"
      ],
      "execution_count": 0,
      "outputs": [
        {
          "output_type": "execute_result",
          "data": {
            "text/plain": [
              "count    48817.000000\n",
              "mean      3579.585247\n",
              "std       1762.430772\n",
              "min       1375.000000\n",
              "25%       2500.000000\n",
              "50%       3150.000000\n",
              "75%       4095.000000\n",
              "max      15500.000000\n",
              "Name: price, dtype: float64"
            ]
          },
          "metadata": {
            "tags": []
          },
          "execution_count": 22
        }
      ]
    },
    {
      "cell_type": "code",
      "metadata": {
        "id": "1vqIJQHpupxD",
        "colab_type": "code",
        "colab": {}
      },
      "source": [
        "import numpy as np\n",
        "y_log = np.log1p(y)"
      ],
      "execution_count": 0,
      "outputs": []
    },
    {
      "cell_type": "code",
      "metadata": {
        "id": "hvmnJYf2uyA0",
        "colab_type": "code",
        "outputId": "6393f09f-a058-46ce-a65b-bbf1c24e39ab",
        "colab": {
          "base_uri": "https://localhost:8080/",
          "height": 295
        }
      },
      "source": [
        "import matplotlib.pyplot as plt\n",
        "sns.distplot(y)\n",
        "plt.title('Original target, in the unit of US Dollars');"
      ],
      "execution_count": 0,
      "outputs": [
        {
          "output_type": "display_data",
          "data": {
            "image/png": "[encoded data removed]",
            "text/plain": [
              "<Figure size 432x288 with 1 Axes>"
            ]
          },
          "metadata": {
            "tags": []
          }
        }
      ]
    },
    {
      "cell_type": "code",
      "metadata": {
        "id": "eeF7qH2FtwwZ",
        "colab_type": "code",
        "outputId": "be4248c5-9a68-41c8-bef4-6d201853e55b",
        "colab": {
          "base_uri": "https://localhost:8080/",
          "height": 295
        }
      },
      "source": [
        "sns.distplot(y_log)\n",
        "plt.title('Log-transformed target, in log-dollars');"
      ],
      "execution_count": 0,
      "outputs": [
        {
          "output_type": "display_data",
          "data": {
            "image/png": "[encoded data removed]",
            "text/plain": [
              "<Figure size 432x288 with 1 Axes>"
            ]
          },
          "metadata": {
            "tags": []
          }
        }
      ]
    },
    {
      "cell_type": "code",
      "metadata": {
        "id": "bamZT9ORuwH3",
        "colab_type": "code",
        "outputId": "daae07a5-3f80-4c03-81d3-4328c4b01eeb",
        "colab": {
          "base_uri": "https://localhost:8080/",
          "height": 279
        }
      },
      "source": [
        "y_untransformed = np.expm1(y_log)\n",
        "sns.distplot(y_untransformed);"
      ],
      "execution_count": 0,
      "outputs": [
        {
          "output_type": "display_data",
          "data": {
            "image/png": "[encoded data removed]",
            "text/plain": [
              "<Figure size 432x288 with 1 Axes>"
            ]
          },
          "metadata": {
            "tags": []
          }
        }
      ]
    },
    {
      "cell_type": "code",
      "metadata": {
        "id": "ri-oh-t-un6U",
        "colab_type": "code",
        "colab": {}
      },
      "source": [
        "y_train_log = np.log1p(y_train)\n",
        "y_val_log = np.log1p(y_val)\n",
        "model.fit(X_train, y_train_log)\n",
        "y_pred_log = model.predict(X_val)\n",
        "y_pred = np.expm1(y_pred_log)\n",
        "mean_absolute_error(y_val, y_pred)"
      ],
      "execution_count": 0,
      "outputs": []
    }
  ]
}